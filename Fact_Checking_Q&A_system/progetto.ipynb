{
 "cells": [
  {
   "cell_type": "markdown",
   "metadata": {},
   "source": [
    "## Import"
   ]
  },
  {
   "cell_type": "code",
   "execution_count": 1,
   "metadata": {},
   "outputs": [
    {
     "name": "stderr",
     "output_type": "stream",
     "text": [
      "c:\\Users\\fedej\\Desktop\\TRACCIA1-1_NEGRI_COSTABILE\\.conda\\Lib\\site-packages\\sentence_transformers\\cross_encoder\\CrossEncoder.py:11: TqdmExperimentalWarning: Using `tqdm.autonotebook.tqdm` in notebook mode. Use `tqdm.tqdm` instead to force console mode (e.g. in jupyter console)\n",
      "  from tqdm.autonotebook import tqdm, trange\n"
     ]
    }
   ],
   "source": [
    "import worldnewsapi\n",
    "from pymongo import MongoClient\n",
    "import json\n",
    "from worldnewsapi.rest import ApiException\n",
    "from sentence_transformers import SentenceTransformer"
   ]
  },
  {
   "cell_type": "markdown",
   "metadata": {},
   "source": [
    "## Definizione Embedding Model "
   ]
  },
  {
   "cell_type": "code",
   "execution_count": 4,
   "metadata": {},
   "outputs": [
    {
     "name": "stderr",
     "output_type": "stream",
     "text": [
      "c:\\Users\\fedej\\Desktop\\TRACCIA1-1_NEGRI_COSTABILE\\.conda\\Lib\\site-packages\\huggingface_hub\\file_download.py:1132: FutureWarning: `resume_download` is deprecated and will be removed in version 1.0.0. Downloads always resume when possible. If you want to force a new download, use `force_download=True`.\n",
      "  warnings.warn(\n"
     ]
    }
   ],
   "source": [
    "def get_embedding(text: str) -> list[float]:\n",
    "    if not text.strip():\n",
    "        print(\"Attempted to get embedding for empty text.\")\n",
    "        return []\n",
    "\n",
    "    embedding = embedding_model.encode(text)\n",
    "\n",
    "    return embedding.tolist()\n",
    "\n",
    "# https://huggingface.co/thenlper/gte-large\n",
    "embedding_model = SentenceTransformer(\"thenlper/gte-large\")"
   ]
  },
  {
   "cell_type": "markdown",
   "metadata": {},
   "source": [
    "## Creazione e Connessione MongoDB"
   ]
  },
  {
   "cell_type": "code",
   "execution_count": 2,
   "metadata": {},
   "outputs": [],
   "source": [
    "mongo_uri = \"insert yout mongo uri\"\n",
    "client = MongoClient(mongo_uri)\n",
    "db = client['db_europee']  # Nome del database\n",
    "collection = db['articles']  # Nome della collezione"
   ]
  },
  {
   "cell_type": "markdown",
   "metadata": {},
   "source": [
    "## Data Extraxtion-Data Transformation-Data Loading"
   ]
  },
  {
   "cell_type": "markdown",
   "metadata": {},
   "source": [
    "### Articoli su Elezioni Europee 2024"
   ]
  },
  {
   "cell_type": "code",
   "execution_count": 8,
   "metadata": {},
   "outputs": [
    {
     "name": "stdout",
     "output_type": "stream",
     "text": [
      "653 articoli sono stati caricati con successo su MongoDB Atlas.\n"
     ]
    }
   ],
   "source": [
    "# Configura l'API con la tua chiave API\n",
    "newsapi_configuration = worldnewsapi.Configuration(api_key={'apiKey': 'insert your worldnewsdata api'})\n",
    "newsapi_instance = worldnewsapi.NewsApi(worldnewsapi.ApiClient(newsapi_configuration))\n",
    "\n",
    "# Lista degli intervalli temporali (sostituisci con gli intervalli desiderati)\n",
    "date_intervals = [\n",
    "    ('2024-05-01', '2024-05-07'),\n",
    "    ('2024-05-08', '2024-05-14'),\n",
    "    ('2024-05-15', '2024-05-21'),\n",
    "    ('2024-05-22', '2024-05-28'),\n",
    "    ('2024-05-29', '2024-05-31'),\n",
    "    ('2024-04-01', '2024-04-07'),\n",
    "    ('2024-04-08', '2024-04-14'),\n",
    "    ('2024-04-15', '2024-04-21'),\n",
    "    ('2024-04-22', '2024-04-30')\n",
    "    \n",
    "]\n",
    "\n",
    "# Lista per accumulare tutti i risultati\n",
    "all_articles = []\n",
    "\n",
    "try:\n",
    "    for start_date, end_date in date_intervals:\n",
    "        # Esegui la ricerca degli articoli con i parametri desiderati\n",
    "        response = newsapi_instance.search_news(\n",
    "            text='elezioni europee 2024',\n",
    "            source_countries='it',\n",
    "            language='it',\n",
    "            sort=\"publish-time\",\n",
    "            sort_direction=\"desc\",\n",
    "            offset=0,\n",
    "            number=100,\n",
    "            earliest_publish_date=start_date,\n",
    "            latest_publish_date=end_date\n",
    "        )\n",
    "        \n",
    "        # Converti la risposta in dizionario\n",
    "        response_dict = response.to_dict()\n",
    "        \n",
    "        # Accumula gli articoli nella lista all_articles\n",
    "        if 'news' in response_dict:\n",
    "            all_articles.extend(response_dict['news'])\n",
    "\n",
    "    # Aggiungi embedding agli articoli dopo averli accumulati tutti\n",
    "    for article in all_articles:\n",
    "        article['embedding'] = get_embedding(article[\"text\"])\n",
    "\n",
    "    # Inserisci gli articoli nel database\n",
    "    if all_articles:\n",
    "        collection.insert_many(all_articles)\n",
    "        print(f\"{len(all_articles)} articoli sono stati caricati con successo su MongoDB Atlas.\")\n",
    "    else:\n",
    "        print(\"Nessun articolo da caricare.\")\n",
    "\n",
    "except ApiException as e:\n",
    "    print(\"Exception when calling NewsApi->search_news: %s\\n\" % e)"
   ]
  },
  {
   "cell_type": "markdown",
   "metadata": {},
   "source": [
    "### Articoli sui partiti italiani"
   ]
  },
  {
   "cell_type": "code",
   "execution_count": 10,
   "metadata": {},
   "outputs": [
    {
     "name": "stdout",
     "output_type": "stream",
     "text": [
      "800 articoli sono stati caricati con successo su MongoDB Atlas.\n"
     ]
    }
   ],
   "source": [
    "# Configura l'API con la tua chiave API\n",
    "newsapi_configuration = worldnewsapi.Configuration(api_key={'apiKey': 'insert your worldnewsdata api'})\n",
    "\n",
    "lista_partiti = [ 'Forza Italia Noi Moderati', 'Lega','Fratelli d Italia', 'Partito Democratico', 'Movimento 5 Stelle',  'Azione Siamo Europei','Alleanza Verdi Sinistra','Stati Uniti d Europa'\n",
    "]\n",
    "\n",
    "# Lista per accumulare tutti i risultati\n",
    "all_articles = []\n",
    "\n",
    "newsapi_instance = worldnewsapi.NewsApi(worldnewsapi.ApiClient(newsapi_configuration))\n",
    "try:\n",
    "    for partito in lista_partiti:\n",
    "        # Esegui la ricerca degli articoli con i parametri desiderati\n",
    "        response = newsapi_instance.search_news(\n",
    "            text=partito,\n",
    "            source_countries='it',\n",
    "            language='it',\n",
    "            sort=\"publish-time\",\n",
    "            sort_direction=\"desc\",\n",
    "            offset=0,\n",
    "            number=100,\n",
    "            \n",
    "        )\n",
    "        \n",
    "        # Converti la risposta in dizionario\n",
    "        response_dict = response.to_dict()\n",
    "        \n",
    "        # Accumula gli articoli nella lista all_articles\n",
    "        if 'news' in response_dict:\n",
    "            all_articles.extend(response_dict['news'])\n",
    "\n",
    "    # Aggiungi embedding agli articoli dopo averli accumulati tutti\n",
    "    for article in all_articles:\n",
    "        article['embedding'] = get_embedding(article[\"text\"])\n",
    "\n",
    " # Inserisci gli articoli nel database\n",
    "    if all_articles:\n",
    "        collection.insert_many(all_articles)\n",
    "        print(f\"{len(all_articles)} articoli sono stati caricati con successo su MongoDB Atlas.\")\n",
    "    else:\n",
    "        print(\"Nessun articolo da caricare.\")\n",
    "\n",
    "except ApiException as e:\n",
    "    print(\"Exception when calling NewsApi->search_news: %s\\n\" % e)"
   ]
  },
  {
   "cell_type": "code",
   "execution_count": 4,
   "metadata": {},
   "outputs": [
    {
     "name": "stdout",
     "output_type": "stream",
     "text": [
      "403 articoli sono stati caricati con successo su MongoDB Atlas.\n"
     ]
    }
   ],
   "source": [
    "# Configura l'API con la tua chiave API\n",
    "newsapi_configuration = worldnewsapi.Configuration(api_key={'apiKey': 'insert your worldnewsdata api'})\n",
    "\n",
    "lista_partiti = [ \"Pace Terra Dignità\", 'Alternativa popolare', \"Libertà\", 'Rassemblement Valdotain', 'Sudtiroler Volkspartei (SVP)']\n",
    "\n",
    "# Lista per accumulare tutti i risultati\n",
    "all_articles = []\n",
    "\n",
    "newsapi_instance = worldnewsapi.NewsApi(worldnewsapi.ApiClient(newsapi_configuration))\n",
    "try:\n",
    "    for partito in lista_partiti:\n",
    "        # Esegui la ricerca degli articoli con i parametri desiderati\n",
    "        response = newsapi_instance.search_news(\n",
    "            text=partito,\n",
    "            source_countries='it',\n",
    "            language='it',\n",
    "            sort=\"publish-time\",\n",
    "            sort_direction=\"desc\",\n",
    "            offset=0,\n",
    "            number=100,\n",
    "            \n",
    "        )\n",
    "        \n",
    "        # Converti la risposta in dizionario\n",
    "        response_dict = response.to_dict()\n",
    "        \n",
    "        # Accumula gli articoli nella lista all_articles\n",
    "        if 'news' in response_dict:\n",
    "            all_articles.extend(response_dict['news'])\n",
    "\n",
    "    # Aggiungi embedding agli articoli dopo averli accumulati tutti\n",
    "    for article in all_articles:\n",
    "        article['embedding'] = get_embedding(article[\"text\"])\n",
    "\n",
    " # Inserisci gli articoli nel database\n",
    "    if all_articles:\n",
    "        collection.insert_many(all_articles)\n",
    "        print(f\"{len(all_articles)} articoli sono stati caricati con successo su MongoDB Atlas.\")\n",
    "    else:\n",
    "        print(\"Nessun articolo da caricare.\")\n",
    "\n",
    "except ApiException as e:\n",
    "    print(\"Exception when calling NewsApi->search_news: %s\\n\" % e)"
   ]
  },
  {
   "cell_type": "markdown",
   "metadata": {},
   "source": [
    "### Articoli sui candidati di ogni partito"
   ]
  },
  {
   "cell_type": "code",
   "execution_count": 5,
   "metadata": {},
   "outputs": [
    {
     "name": "stdout",
     "output_type": "stream",
     "text": [
      "1402 articoli sono stati caricati con successo su MongoDB Atlas.\n"
     ]
    }
   ],
   "source": [
    "# Configura l'API con la tua chiave API\n",
    "newsapi_configuration = worldnewsapi.Configuration(api_key={'apiKey': 'insert your worldnewsdata api'})\n",
    "\n",
    "lista_candidati = ['Giorgia Meloni','Roberto Vannacci', 'Silvia Serafina Sardone', 'Antonio Tajani', 'Emma Bonino', 'Matteo Renzi', 'Carlo Calenda', 'Elena Bonetti','Elly Schlein','Maria Angela Danzì', 'Ilaria Salis', 'Vittorio Sgarbi','Stefano Bonaccini','Pierluigi Vossi','Letizia Moratti', 'Pasquale Tridico'\n",
    "]\n",
    "\n",
    "# Lista per accumulare tutti i risultati\n",
    "all_articles = []\n",
    "\n",
    "newsapi_instance = worldnewsapi.NewsApi(worldnewsapi.ApiClient(newsapi_configuration))\n",
    "try:\n",
    "    for candidato in lista_candidati:\n",
    "        # Esegui la ricerca degli articoli con i parametri desiderati\n",
    "        response = newsapi_instance.search_news(\n",
    "            text=candidato,\n",
    "            source_countries='it',\n",
    "            language='it',\n",
    "            sort=\"publish-time\",\n",
    "            sort_direction=\"desc\",\n",
    "            offset=0,\n",
    "            number=100,\n",
    "            \n",
    "        )\n",
    "        \n",
    "        # Converti la risposta in dizionario\n",
    "        response_dict = response.to_dict()\n",
    "        \n",
    "        # Accumula gli articoli nella lista all_articles\n",
    "        if 'news' in response_dict:\n",
    "            all_articles.extend(response_dict['news'])\n",
    "\n",
    "    # Aggiungi embedding agli articoli dopo averli accumulati tutti\n",
    "    for article in all_articles:\n",
    "        article['embedding'] = get_embedding(article[\"text\"])\n",
    "\n",
    " # Inserisci gli articoli nel database\n",
    "    if all_articles:\n",
    "        collection.insert_many(all_articles)\n",
    "        print(f\"{len(all_articles)} articoli sono stati caricati con successo su MongoDB Atlas.\")\n",
    "    else:\n",
    "        print(\"Nessun articolo da caricare.\")\n",
    "\n",
    "except ApiException as e:\n",
    "    print(\"Exception when calling NewsApi->search_news: %s\\n\" % e)"
   ]
  },
  {
   "cell_type": "code",
   "execution_count": 5,
   "metadata": {},
   "outputs": [
    {
     "name": "stdout",
     "output_type": "stream",
     "text": [
      "1203 articoli sono stati caricati con successo su MongoDB Atlas.\n"
     ]
    }
   ],
   "source": [
    "# Configura l'API con la tua chiave API\n",
    "newsapi_configuration = worldnewsapi.Configuration(api_key={'apiKey': 'insert your worldnewsdata api'})\n",
    "\n",
    "lista_candidati = [ \"candidato Pace Terra Dignità\", 'candidato Alternativa Popolare', \"candidato Libertà\", 'candidato Rassemblement Valdotain', 'candidato Sudtiroler Volkspartei (SVP)','candidato Forza Italia Noi Moderati', 'candidato Lega','candidato Fratelli d Italia', 'candidato Partito Democratico', 'candidato Movimento 5 Stelle',  'candidato Azione Siamo Europei','candidato Alleanza Verdi Sinistra','candidato Stati Uniti d Europa'\n",
    "]\n",
    "\n",
    "# Lista per accumulare tutti i risultati\n",
    "all_articles = []\n",
    "\n",
    "newsapi_instance = worldnewsapi.NewsApi(worldnewsapi.ApiClient(newsapi_configuration))\n",
    "try:\n",
    "    for candidato in lista_candidati:\n",
    "        # Esegui la ricerca degli articoli con i parametri desiderati\n",
    "        response = newsapi_instance.search_news(\n",
    "            text=candidato,\n",
    "            source_countries='it',\n",
    "            language='it',\n",
    "            sort=\"publish-time\",\n",
    "            sort_direction=\"desc\",\n",
    "            offset=0,\n",
    "            number=100,\n",
    "            \n",
    "        )\n",
    "        \n",
    "        # Converti la risposta in dizionario\n",
    "        response_dict = response.to_dict()\n",
    "        \n",
    "        # Accumula gli articoli nella lista all_articles\n",
    "        if 'news' in response_dict:\n",
    "            all_articles.extend(response_dict['news'])\n",
    "\n",
    "    # Aggiungi embedding agli articoli dopo averli accumulati tutti\n",
    "    for article in all_articles:\n",
    "        article['embedding'] = get_embedding(article[\"text\"])\n",
    "\n",
    " # Inserisci gli articoli nel database\n",
    "    if all_articles:\n",
    "        collection.insert_many(all_articles)\n",
    "        print(f\"{len(all_articles)} articoli sono stati caricati con successo su MongoDB Atlas.\")\n",
    "    else:\n",
    "        print(\"Nessun articolo da caricare.\")\n",
    "\n",
    "except ApiException as e:\n",
    "    print(\"Exception when calling NewsApi->search_news: %s\\n\" % e)"
   ]
  },
  {
   "cell_type": "markdown",
   "metadata": {},
   "source": [
    "### Articoli sui programmi dei partiti "
   ]
  },
  {
   "cell_type": "code",
   "execution_count": 6,
   "metadata": {},
   "outputs": [
    {
     "name": "stdout",
     "output_type": "stream",
     "text": [
      "800 articoli sono stati caricati con successo su MongoDB Atlas.\n"
     ]
    }
   ],
   "source": [
    "# Configura l'API con la tua chiave API\n",
    "newsapi_configuration = worldnewsapi.Configuration(api_key={'apiKey': 'insert your worldnewsdata api'})\n",
    "\n",
    "lista_programmi= ['programma elettorale Fratelli d Italia ', 'programma elettorale Lega ', 'programma elettorale Stati Uniti d Europa ', 'programma elettorale Azione ', 'programma elettorale Partito Democratico ', 'programma elettorale Movimento 5 Stelle ', 'programma elettorale Forza Italia ', 'programma elettorale Alleanza Verdi Sinistra']\n",
    "\n",
    "# Lista per accumulare tutti i risultati\n",
    "all_articles = []\n",
    "\n",
    "newsapi_instance = worldnewsapi.NewsApi(worldnewsapi.ApiClient(newsapi_configuration))\n",
    "try:\n",
    "    for programma in lista_programmi:\n",
    "        # Esegui la ricerca degli articoli con i parametri desiderati\n",
    "        response = newsapi_instance.search_news(\n",
    "            text=programma,\n",
    "            source_countries='it',\n",
    "            language='it',\n",
    "            sort=\"publish-time\",\n",
    "            sort_direction=\"desc\",\n",
    "            offset=0,\n",
    "            number=100,\n",
    "            \n",
    "        )\n",
    "        \n",
    "        # Converti la risposta in dizionario\n",
    "        response_dict = response.to_dict()\n",
    "        \n",
    "        # Accumula gli articoli nella lista all_articles\n",
    "        if 'news' in response_dict:\n",
    "            all_articles.extend(response_dict['news'])\n",
    "\n",
    "    # Aggiungi embedding agli articoli dopo averli accumulati tutti\n",
    "    for article in all_articles:\n",
    "        article['embedding'] = get_embedding(article[\"text\"])\n",
    "\n",
    " # Inserisci gli articoli nel database\n",
    "    if all_articles:\n",
    "        collection.insert_many(all_articles)\n",
    "        print(f\"{len(all_articles)} articoli sono stati caricati con successo su MongoDB Atlas.\")\n",
    "    else:\n",
    "        print(\"Nessun articolo da caricare.\")\n",
    "\n",
    "except ApiException as e:\n",
    "    print(\"Exception when calling NewsApi->search_news: %s\\n\" % e)"
   ]
  },
  {
   "cell_type": "code",
   "execution_count": 6,
   "metadata": {},
   "outputs": [
    {
     "name": "stdout",
     "output_type": "stream",
     "text": [
      "317 articoli sono stati caricati con successo su MongoDB Atlas.\n"
     ]
    }
   ],
   "source": [
    "# Configura l'API con la tua chiave API\n",
    "newsapi_configuration = worldnewsapi.Configuration(api_key={'apiKey': 'insert your worldnewsdata api'})\n",
    "\n",
    "lista_programmi= ['programma elettorale Pace Terra Dignità ', 'programma elettorale Alternativa Popolare ', 'programma elettorale Libertà ', 'programma elettorale Rassemblement Valdotain ', 'programma elettorale Sudtiroler Volkspartei (SVP)' ]\n",
    "\n",
    "# Lista per accumulare tutti i risultati\n",
    "all_articles = []\n",
    "\n",
    "newsapi_instance = worldnewsapi.NewsApi(worldnewsapi.ApiClient(newsapi_configuration))\n",
    "try:\n",
    "    for programma in lista_programmi:\n",
    "        # Esegui la ricerca degli articoli con i parametri desiderati\n",
    "        response = newsapi_instance.search_news(\n",
    "            text=programma,\n",
    "            source_countries='it',\n",
    "            language='it',\n",
    "            sort=\"publish-time\",\n",
    "            sort_direction=\"desc\",\n",
    "            offset=0,\n",
    "            number=100,\n",
    "            \n",
    "        )\n",
    "        \n",
    "        # Converti la risposta in dizionario\n",
    "        response_dict = response.to_dict()\n",
    "        \n",
    "        # Accumula gli articoli nella lista all_articles\n",
    "        if 'news' in response_dict:\n",
    "            all_articles.extend(response_dict['news'])\n",
    "\n",
    "    # Aggiungi embedding agli articoli dopo averli accumulati tutti\n",
    "    for article in all_articles:\n",
    "        article['embedding'] = get_embedding(article[\"text\"])\n",
    "\n",
    " # Inserisci gli articoli nel database\n",
    "    if all_articles:\n",
    "        collection.insert_many(all_articles)\n",
    "        print(f\"{len(all_articles)} articoli sono stati caricati con successo su MongoDB Atlas.\")\n",
    "    else:\n",
    "        print(\"Nessun articolo da caricare.\")\n",
    "\n",
    "except ApiException as e:\n",
    "    print(\"Exception when calling NewsApi->search_news: %s\\n\" % e)"
   ]
  },
  {
   "cell_type": "markdown",
   "metadata": {},
   "source": [
    "### Articoli su Topic"
   ]
  },
  {
   "cell_type": "code",
   "execution_count": 5,
   "metadata": {},
   "outputs": [
    {
     "name": "stdout",
     "output_type": "stream",
     "text": [
      "600 articoli sono stati caricati con successo su MongoDB Atlas.\n"
     ]
    }
   ],
   "source": [
    "# Configura l'API con la tua chiave API\n",
    "newsapi_configuration = worldnewsapi.Configuration(api_key={'apiKey': 'insert your worldnewsdata api'})\n",
    "\n",
    "lista_programmi= ['esercito comune Europeo', 'guerra in Ucraina', 'politica migratoria europea', 'riconoscimento europeo della Palestina', 'sanzioni economiche Russia', 'cambiamento climatico', 'transizione energetica europea' ]\n",
    "\n",
    "# Lista per accumulare tutti i risultati\n",
    "all_articles = []\n",
    "\n",
    "newsapi_instance = worldnewsapi.NewsApi(worldnewsapi.ApiClient(newsapi_configuration))\n",
    "try:\n",
    "    for programma in lista_programmi:\n",
    "        # Esegui la ricerca degli articoli con i parametri desiderati\n",
    "        response = newsapi_instance.search_news(\n",
    "            text=programma,\n",
    "            source_countries='it',\n",
    "            language='it',\n",
    "            sort=\"publish-time\",\n",
    "            sort_direction=\"desc\",\n",
    "            offset=0,\n",
    "            number=100,\n",
    "            \n",
    "        )\n",
    "        \n",
    "        # Converti la risposta in dizionario\n",
    "        response_dict = response.to_dict()\n",
    "        \n",
    "        # Accumula gli articoli nella lista all_articles\n",
    "        if 'news' in response_dict:\n",
    "            all_articles.extend(response_dict['news'])\n",
    "\n",
    "    # Aggiungi embedding agli articoli dopo averli accumulati tutti\n",
    "    for article in all_articles:\n",
    "        article['embedding'] = get_embedding(article[\"text\"])\n",
    "\n",
    " # Inserisci gli articoli nel database\n",
    "    if all_articles:\n",
    "        collection.insert_many(all_articles)\n",
    "        print(f\"{len(all_articles)} articoli sono stati caricati con successo su MongoDB Atlas.\")\n",
    "    else:\n",
    "        print(\"Nessun articolo da caricare.\")\n",
    "\n",
    "except ApiException as e:\n",
    "    print(\"Exception when calling NewsApi->search_news: %s\\n\" % e)"
   ]
  },
  {
   "cell_type": "markdown",
   "metadata": {},
   "source": [
    "### Caricamento dati strutturati: Lista candidati alle varie circostrizioni"
   ]
  },
  {
   "cell_type": "code",
   "execution_count": 4,
   "metadata": {},
   "outputs": [
    {
     "data": {
      "text/plain": [
       "InsertManyResult([ObjectId('6661bc0cd17570d086fd382f'), ObjectId('6661bc0cd17570d086fd3830'), ObjectId('6661bc0cd17570d086fd3831'), ObjectId('6661bc0cd17570d086fd3832'), ObjectId('6661bc0cd17570d086fd3833'), ObjectId('6661bc0cd17570d086fd3834'), ObjectId('6661bc0cd17570d086fd3835'), ObjectId('6661bc0cd17570d086fd3836'), ObjectId('6661bc0cd17570d086fd3837'), ObjectId('6661bc0cd17570d086fd3838'), ObjectId('6661bc0cd17570d086fd3839'), ObjectId('6661bc0cd17570d086fd383a'), ObjectId('6661bc0cd17570d086fd383b'), ObjectId('6661bc0cd17570d086fd383c'), ObjectId('6661bc0cd17570d086fd383d'), ObjectId('6661bc0cd17570d086fd383e'), ObjectId('6661bc0cd17570d086fd383f'), ObjectId('6661bc0cd17570d086fd3840'), ObjectId('6661bc0cd17570d086fd3841'), ObjectId('6661bc0cd17570d086fd3842'), ObjectId('6661bc0cd17570d086fd3843'), ObjectId('6661bc0cd17570d086fd3844'), ObjectId('6661bc0cd17570d086fd3845'), ObjectId('6661bc0cd17570d086fd3846'), ObjectId('6661bc0cd17570d086fd3847'), ObjectId('6661bc0cd17570d086fd3848'), ObjectId('6661bc0cd17570d086fd3849'), ObjectId('6661bc0cd17570d086fd384a'), ObjectId('6661bc0cd17570d086fd384b'), ObjectId('6661bc0cd17570d086fd384c'), ObjectId('6661bc0cd17570d086fd384d'), ObjectId('6661bc0cd17570d086fd384e'), ObjectId('6661bc0cd17570d086fd384f'), ObjectId('6661bc0cd17570d086fd3850'), ObjectId('6661bc0cd17570d086fd3851'), ObjectId('6661bc0cd17570d086fd3852'), ObjectId('6661bc0cd17570d086fd3853'), ObjectId('6661bc0cd17570d086fd3854'), ObjectId('6661bc0cd17570d086fd3855'), ObjectId('6661bc0cd17570d086fd3856'), ObjectId('6661bc0cd17570d086fd3857'), ObjectId('6661bc0cd17570d086fd3858'), ObjectId('6661bc0cd17570d086fd3859'), ObjectId('6661bc0cd17570d086fd385a'), ObjectId('6661bc0cd17570d086fd385b'), ObjectId('6661bc0cd17570d086fd385c'), ObjectId('6661bc0cd17570d086fd385d'), ObjectId('6661bc0cd17570d086fd385e'), ObjectId('6661bc0cd17570d086fd385f'), ObjectId('6661bc0cd17570d086fd3860'), ObjectId('6661bc0cd17570d086fd3861'), ObjectId('6661bc0cd17570d086fd3862'), ObjectId('6661bc0cd17570d086fd3863'), ObjectId('6661bc0cd17570d086fd3864'), ObjectId('6661bc0cd17570d086fd3865'), ObjectId('6661bc0cd17570d086fd3866'), ObjectId('6661bc0cd17570d086fd3867'), ObjectId('6661bc0cd17570d086fd3868'), ObjectId('6661bc0cd17570d086fd3869'), ObjectId('6661bc0cd17570d086fd386a'), ObjectId('6661bc0cd17570d086fd386b'), ObjectId('6661bc0cd17570d086fd386c'), ObjectId('6661bc0cd17570d086fd386d'), ObjectId('6661bc0cd17570d086fd386e'), ObjectId('6661bc0cd17570d086fd386f'), ObjectId('6661bc0cd17570d086fd3870'), ObjectId('6661bc0cd17570d086fd3871'), ObjectId('6661bc0cd17570d086fd3872'), ObjectId('6661bc0cd17570d086fd3873'), ObjectId('6661bc0cd17570d086fd3874'), ObjectId('6661bc0cd17570d086fd3875'), ObjectId('6661bc0cd17570d086fd3876'), ObjectId('6661bc0cd17570d086fd3877'), ObjectId('6661bc0cd17570d086fd3878'), ObjectId('6661bc0cd17570d086fd3879'), ObjectId('6661bc0cd17570d086fd387a'), ObjectId('6661bc0cd17570d086fd387b'), ObjectId('6661bc0cd17570d086fd387c'), ObjectId('6661bc0cd17570d086fd387d'), ObjectId('6661bc0cd17570d086fd387e'), ObjectId('6661bc0cd17570d086fd387f'), ObjectId('6661bc0cd17570d086fd3880'), ObjectId('6661bc0cd17570d086fd3881'), ObjectId('6661bc0cd17570d086fd3882'), ObjectId('6661bc0cd17570d086fd3883'), ObjectId('6661bc0cd17570d086fd3884'), ObjectId('6661bc0cd17570d086fd3885'), ObjectId('6661bc0cd17570d086fd3886'), ObjectId('6661bc0cd17570d086fd3887'), ObjectId('6661bc0cd17570d086fd3888'), ObjectId('6661bc0cd17570d086fd3889'), ObjectId('6661bc0cd17570d086fd388a'), ObjectId('6661bc0cd17570d086fd388b'), ObjectId('6661bc0cd17570d086fd388c'), ObjectId('6661bc0cd17570d086fd388d'), ObjectId('6661bc0cd17570d086fd388e'), ObjectId('6661bc0cd17570d086fd388f'), ObjectId('6661bc0cd17570d086fd3890'), ObjectId('6661bc0cd17570d086fd3891'), ObjectId('6661bc0cd17570d086fd3892'), ObjectId('6661bc0cd17570d086fd3893'), ObjectId('6661bc0cd17570d086fd3894'), ObjectId('6661bc0cd17570d086fd3895'), ObjectId('6661bc0cd17570d086fd3896'), ObjectId('6661bc0cd17570d086fd3897'), ObjectId('6661bc0cd17570d086fd3898'), ObjectId('6661bc0cd17570d086fd3899'), ObjectId('6661bc0cd17570d086fd389a'), ObjectId('6661bc0cd17570d086fd389b'), ObjectId('6661bc0cd17570d086fd389c'), ObjectId('6661bc0cd17570d086fd389d'), ObjectId('6661bc0cd17570d086fd389e'), ObjectId('6661bc0cd17570d086fd389f'), ObjectId('6661bc0cd17570d086fd38a0'), ObjectId('6661bc0cd17570d086fd38a1'), ObjectId('6661bc0cd17570d086fd38a2'), ObjectId('6661bc0cd17570d086fd38a3'), ObjectId('6661bc0cd17570d086fd38a4'), ObjectId('6661bc0cd17570d086fd38a5'), ObjectId('6661bc0cd17570d086fd38a6'), ObjectId('6661bc0cd17570d086fd38a7'), ObjectId('6661bc0cd17570d086fd38a8'), ObjectId('6661bc0cd17570d086fd38a9'), ObjectId('6661bc0cd17570d086fd38aa'), ObjectId('6661bc0cd17570d086fd38ab'), ObjectId('6661bc0cd17570d086fd38ac'), ObjectId('6661bc0cd17570d086fd38ad'), ObjectId('6661bc0cd17570d086fd38ae'), ObjectId('6661bc0cd17570d086fd38af'), ObjectId('6661bc0cd17570d086fd38b0'), ObjectId('6661bc0cd17570d086fd38b1'), ObjectId('6661bc0cd17570d086fd38b2'), ObjectId('6661bc0cd17570d086fd38b3'), ObjectId('6661bc0cd17570d086fd38b4'), ObjectId('6661bc0cd17570d086fd38b5'), ObjectId('6661bc0cd17570d086fd38b6'), ObjectId('6661bc0cd17570d086fd38b7'), ObjectId('6661bc0cd17570d086fd38b8'), ObjectId('6661bc0cd17570d086fd38b9'), ObjectId('6661bc0cd17570d086fd38ba'), ObjectId('6661bc0cd17570d086fd38bb'), ObjectId('6661bc0cd17570d086fd38bc'), ObjectId('6661bc0cd17570d086fd38bd'), ObjectId('6661bc0cd17570d086fd38be'), ObjectId('6661bc0cd17570d086fd38bf'), ObjectId('6661bc0cd17570d086fd38c0'), ObjectId('6661bc0cd17570d086fd38c1'), ObjectId('6661bc0cd17570d086fd38c2'), ObjectId('6661bc0cd17570d086fd38c3'), ObjectId('6661bc0cd17570d086fd38c4'), ObjectId('6661bc0cd17570d086fd38c5'), ObjectId('6661bc0cd17570d086fd38c6'), ObjectId('6661bc0cd17570d086fd38c7'), ObjectId('6661bc0cd17570d086fd38c8'), ObjectId('6661bc0cd17570d086fd38c9'), ObjectId('6661bc0cd17570d086fd38ca'), ObjectId('6661bc0cd17570d086fd38cb'), ObjectId('6661bc0cd17570d086fd38cc'), ObjectId('6661bc0cd17570d086fd38cd'), ObjectId('6661bc0cd17570d086fd38ce'), ObjectId('6661bc0cd17570d086fd38cf'), ObjectId('6661bc0cd17570d086fd38d0'), ObjectId('6661bc0cd17570d086fd38d1'), ObjectId('6661bc0cd17570d086fd38d2'), ObjectId('6661bc0cd17570d086fd38d3'), ObjectId('6661bc0cd17570d086fd38d4'), ObjectId('6661bc0cd17570d086fd38d5'), ObjectId('6661bc0cd17570d086fd38d6'), ObjectId('6661bc0cd17570d086fd38d7'), ObjectId('6661bc0cd17570d086fd38d8'), ObjectId('6661bc0cd17570d086fd38d9'), ObjectId('6661bc0cd17570d086fd38da'), ObjectId('6661bc0cd17570d086fd38db'), ObjectId('6661bc0cd17570d086fd38dc'), ObjectId('6661bc0cd17570d086fd38dd'), ObjectId('6661bc0cd17570d086fd38de'), ObjectId('6661bc0cd17570d086fd38df'), ObjectId('6661bc0cd17570d086fd38e0'), ObjectId('6661bc0cd17570d086fd38e1'), ObjectId('6661bc0cd17570d086fd38e2'), ObjectId('6661bc0cd17570d086fd38e3'), ObjectId('6661bc0cd17570d086fd38e4'), ObjectId('6661bc0cd17570d086fd38e5'), ObjectId('6661bc0cd17570d086fd38e6'), ObjectId('6661bc0cd17570d086fd38e7'), ObjectId('6661bc0cd17570d086fd38e8'), ObjectId('6661bc0cd17570d086fd38e9'), ObjectId('6661bc0cd17570d086fd38ea'), ObjectId('6661bc0cd17570d086fd38eb'), ObjectId('6661bc0cd17570d086fd38ec'), ObjectId('6661bc0cd17570d086fd38ed'), ObjectId('6661bc0cd17570d086fd38ee'), ObjectId('6661bc0cd17570d086fd38ef'), ObjectId('6661bc0cd17570d086fd38f0'), ObjectId('6661bc0cd17570d086fd38f1'), ObjectId('6661bc0cd17570d086fd38f2'), ObjectId('6661bc0cd17570d086fd38f3'), ObjectId('6661bc0cd17570d086fd38f4'), ObjectId('6661bc0cd17570d086fd38f5'), ObjectId('6661bc0cd17570d086fd38f6'), ObjectId('6661bc0cd17570d086fd38f7'), ObjectId('6661bc0cd17570d086fd38f8'), ObjectId('6661bc0cd17570d086fd38f9'), ObjectId('6661bc0cd17570d086fd38fa'), ObjectId('6661bc0cd17570d086fd38fb'), ObjectId('6661bc0cd17570d086fd38fc'), ObjectId('6661bc0cd17570d086fd38fd'), ObjectId('6661bc0cd17570d086fd38fe'), ObjectId('6661bc0cd17570d086fd38ff'), ObjectId('6661bc0cd17570d086fd3900'), ObjectId('6661bc0cd17570d086fd3901'), ObjectId('6661bc0cd17570d086fd3902'), ObjectId('6661bc0cd17570d086fd3903'), ObjectId('6661bc0cd17570d086fd3904'), ObjectId('6661bc0cd17570d086fd3905'), ObjectId('6661bc0cd17570d086fd3906'), ObjectId('6661bc0cd17570d086fd3907'), ObjectId('6661bc0cd17570d086fd3908'), ObjectId('6661bc0cd17570d086fd3909'), ObjectId('6661bc0cd17570d086fd390a'), ObjectId('6661bc0cd17570d086fd390b'), ObjectId('6661bc0cd17570d086fd390c'), ObjectId('6661bc0cd17570d086fd390d'), ObjectId('6661bc0cd17570d086fd390e'), ObjectId('6661bc0cd17570d086fd390f'), ObjectId('6661bc0cd17570d086fd3910'), ObjectId('6661bc0cd17570d086fd3911'), ObjectId('6661bc0cd17570d086fd3912'), ObjectId('6661bc0cd17570d086fd3913'), ObjectId('6661bc0cd17570d086fd3914'), ObjectId('6661bc0cd17570d086fd3915'), ObjectId('6661bc0cd17570d086fd3916'), ObjectId('6661bc0cd17570d086fd3917'), ObjectId('6661bc0cd17570d086fd3918'), ObjectId('6661bc0cd17570d086fd3919'), ObjectId('6661bc0cd17570d086fd391a'), ObjectId('6661bc0cd17570d086fd391b'), ObjectId('6661bc0cd17570d086fd391c'), ObjectId('6661bc0cd17570d086fd391d'), ObjectId('6661bc0cd17570d086fd391e'), ObjectId('6661bc0cd17570d086fd391f'), ObjectId('6661bc0cd17570d086fd3920'), ObjectId('6661bc0cd17570d086fd3921'), ObjectId('6661bc0cd17570d086fd3922'), ObjectId('6661bc0cd17570d086fd3923'), ObjectId('6661bc0cd17570d086fd3924'), ObjectId('6661bc0cd17570d086fd3925'), ObjectId('6661bc0cd17570d086fd3926'), ObjectId('6661bc0cd17570d086fd3927'), ObjectId('6661bc0cd17570d086fd3928'), ObjectId('6661bc0cd17570d086fd3929'), ObjectId('6661bc0cd17570d086fd392a'), ObjectId('6661bc0cd17570d086fd392b'), ObjectId('6661bc0cd17570d086fd392c'), ObjectId('6661bc0cd17570d086fd392d'), ObjectId('6661bc0cd17570d086fd392e'), ObjectId('6661bc0cd17570d086fd392f'), ObjectId('6661bc0cd17570d086fd3930'), ObjectId('6661bc0cd17570d086fd3931'), ObjectId('6661bc0cd17570d086fd3932'), ObjectId('6661bc0cd17570d086fd3933'), ObjectId('6661bc0cd17570d086fd3934'), ObjectId('6661bc0cd17570d086fd3935'), ObjectId('6661bc0cd17570d086fd3936'), ObjectId('6661bc0cd17570d086fd3937'), ObjectId('6661bc0cd17570d086fd3938'), ObjectId('6661bc0cd17570d086fd3939'), ObjectId('6661bc0cd17570d086fd393a'), ObjectId('6661bc0cd17570d086fd393b'), ObjectId('6661bc0cd17570d086fd393c'), ObjectId('6661bc0cd17570d086fd393d'), ObjectId('6661bc0cd17570d086fd393e'), ObjectId('6661bc0cd17570d086fd393f'), ObjectId('6661bc0cd17570d086fd3940'), ObjectId('6661bc0cd17570d086fd3941'), ObjectId('6661bc0cd17570d086fd3942'), ObjectId('6661bc0cd17570d086fd3943'), ObjectId('6661bc0cd17570d086fd3944'), ObjectId('6661bc0cd17570d086fd3945'), ObjectId('6661bc0cd17570d086fd3946'), ObjectId('6661bc0cd17570d086fd3947'), ObjectId('6661bc0cd17570d086fd3948'), ObjectId('6661bc0cd17570d086fd3949'), ObjectId('6661bc0cd17570d086fd394a'), ObjectId('6661bc0cd17570d086fd394b'), ObjectId('6661bc0cd17570d086fd394c'), ObjectId('6661bc0cd17570d086fd394d'), ObjectId('6661bc0cd17570d086fd394e'), ObjectId('6661bc0cd17570d086fd394f'), ObjectId('6661bc0cd17570d086fd3950'), ObjectId('6661bc0cd17570d086fd3951'), ObjectId('6661bc0cd17570d086fd3952'), ObjectId('6661bc0cd17570d086fd3953'), ObjectId('6661bc0cd17570d086fd3954'), ObjectId('6661bc0cd17570d086fd3955'), ObjectId('6661bc0cd17570d086fd3956'), ObjectId('6661bc0cd17570d086fd3957'), ObjectId('6661bc0cd17570d086fd3958'), ObjectId('6661bc0cd17570d086fd3959'), ObjectId('6661bc0cd17570d086fd395a'), ObjectId('6661bc0cd17570d086fd395b'), ObjectId('6661bc0cd17570d086fd395c'), ObjectId('6661bc0cd17570d086fd395d'), ObjectId('6661bc0cd17570d086fd395e'), ObjectId('6661bc0cd17570d086fd395f'), ObjectId('6661bc0cd17570d086fd3960'), ObjectId('6661bc0cd17570d086fd3961'), ObjectId('6661bc0cd17570d086fd3962'), ObjectId('6661bc0cd17570d086fd3963'), ObjectId('6661bc0cd17570d086fd3964'), ObjectId('6661bc0cd17570d086fd3965'), ObjectId('6661bc0cd17570d086fd3966'), ObjectId('6661bc0cd17570d086fd3967'), ObjectId('6661bc0cd17570d086fd3968'), ObjectId('6661bc0cd17570d086fd3969'), ObjectId('6661bc0cd17570d086fd396a'), ObjectId('6661bc0cd17570d086fd396b'), ObjectId('6661bc0cd17570d086fd396c'), ObjectId('6661bc0cd17570d086fd396d'), ObjectId('6661bc0cd17570d086fd396e'), ObjectId('6661bc0cd17570d086fd396f'), ObjectId('6661bc0cd17570d086fd3970'), ObjectId('6661bc0cd17570d086fd3971'), ObjectId('6661bc0cd17570d086fd3972'), ObjectId('6661bc0cd17570d086fd3973'), ObjectId('6661bc0cd17570d086fd3974'), ObjectId('6661bc0cd17570d086fd3975'), ObjectId('6661bc0cd17570d086fd3976'), ObjectId('6661bc0cd17570d086fd3977'), ObjectId('6661bc0cd17570d086fd3978'), ObjectId('6661bc0cd17570d086fd3979'), ObjectId('6661bc0cd17570d086fd397a'), ObjectId('6661bc0cd17570d086fd397b'), ObjectId('6661bc0cd17570d086fd397c'), ObjectId('6661bc0cd17570d086fd397d'), ObjectId('6661bc0cd17570d086fd397e'), ObjectId('6661bc0cd17570d086fd397f'), ObjectId('6661bc0cd17570d086fd3980'), ObjectId('6661bc0cd17570d086fd3981'), ObjectId('6661bc0cd17570d086fd3982'), ObjectId('6661bc0cd17570d086fd3983'), ObjectId('6661bc0cd17570d086fd3984'), ObjectId('6661bc0cd17570d086fd3985'), ObjectId('6661bc0cd17570d086fd3986'), ObjectId('6661bc0cd17570d086fd3987'), ObjectId('6661bc0cd17570d086fd3988'), ObjectId('6661bc0cd17570d086fd3989'), ObjectId('6661bc0cd17570d086fd398a'), ObjectId('6661bc0cd17570d086fd398b'), ObjectId('6661bc0cd17570d086fd398c'), ObjectId('6661bc0cd17570d086fd398d'), ObjectId('6661bc0cd17570d086fd398e'), ObjectId('6661bc0cd17570d086fd398f'), ObjectId('6661bc0cd17570d086fd3990'), ObjectId('6661bc0cd17570d086fd3991'), ObjectId('6661bc0cd17570d086fd3992'), ObjectId('6661bc0cd17570d086fd3993'), ObjectId('6661bc0cd17570d086fd3994'), ObjectId('6661bc0cd17570d086fd3995'), ObjectId('6661bc0cd17570d086fd3996'), ObjectId('6661bc0cd17570d086fd3997'), ObjectId('6661bc0cd17570d086fd3998'), ObjectId('6661bc0cd17570d086fd3999'), ObjectId('6661bc0cd17570d086fd399a'), ObjectId('6661bc0cd17570d086fd399b'), ObjectId('6661bc0cd17570d086fd399c'), ObjectId('6661bc0cd17570d086fd399d'), ObjectId('6661bc0cd17570d086fd399e'), ObjectId('6661bc0cd17570d086fd399f'), ObjectId('6661bc0cd17570d086fd39a0'), ObjectId('6661bc0cd17570d086fd39a1'), ObjectId('6661bc0cd17570d086fd39a2'), ObjectId('6661bc0cd17570d086fd39a3'), ObjectId('6661bc0cd17570d086fd39a4'), ObjectId('6661bc0cd17570d086fd39a5'), ObjectId('6661bc0cd17570d086fd39a6'), ObjectId('6661bc0cd17570d086fd39a7'), ObjectId('6661bc0cd17570d086fd39a8'), ObjectId('6661bc0cd17570d086fd39a9'), ObjectId('6661bc0cd17570d086fd39aa'), ObjectId('6661bc0cd17570d086fd39ab'), ObjectId('6661bc0cd17570d086fd39ac'), ObjectId('6661bc0cd17570d086fd39ad'), ObjectId('6661bc0cd17570d086fd39ae'), ObjectId('6661bc0cd17570d086fd39af'), ObjectId('6661bc0cd17570d086fd39b0'), ObjectId('6661bc0cd17570d086fd39b1'), ObjectId('6661bc0cd17570d086fd39b2'), ObjectId('6661bc0cd17570d086fd39b3'), ObjectId('6661bc0cd17570d086fd39b4'), ObjectId('6661bc0cd17570d086fd39b5'), ObjectId('6661bc0cd17570d086fd39b6'), ObjectId('6661bc0cd17570d086fd39b7'), ObjectId('6661bc0cd17570d086fd39b8'), ObjectId('6661bc0cd17570d086fd39b9'), ObjectId('6661bc0cd17570d086fd39ba'), ObjectId('6661bc0cd17570d086fd39bb'), ObjectId('6661bc0cd17570d086fd39bc'), ObjectId('6661bc0cd17570d086fd39bd'), ObjectId('6661bc0cd17570d086fd39be'), ObjectId('6661bc0cd17570d086fd39bf'), ObjectId('6661bc0cd17570d086fd39c0'), ObjectId('6661bc0cd17570d086fd39c1'), ObjectId('6661bc0cd17570d086fd39c2'), ObjectId('6661bc0cd17570d086fd39c3'), ObjectId('6661bc0cd17570d086fd39c4'), ObjectId('6661bc0cd17570d086fd39c5'), ObjectId('6661bc0cd17570d086fd39c6'), ObjectId('6661bc0cd17570d086fd39c7'), ObjectId('6661bc0cd17570d086fd39c8'), ObjectId('6661bc0cd17570d086fd39c9'), ObjectId('6661bc0cd17570d086fd39ca'), ObjectId('6661bc0cd17570d086fd39cb'), ObjectId('6661bc0cd17570d086fd39cc'), ObjectId('6661bc0cd17570d086fd39cd'), ObjectId('6661bc0cd17570d086fd39ce'), ObjectId('6661bc0cd17570d086fd39cf'), ObjectId('6661bc0cd17570d086fd39d0'), ObjectId('6661bc0cd17570d086fd39d1'), ObjectId('6661bc0cd17570d086fd39d2'), ObjectId('6661bc0cd17570d086fd39d3'), ObjectId('6661bc0cd17570d086fd39d4'), ObjectId('6661bc0cd17570d086fd39d5'), ObjectId('6661bc0cd17570d086fd39d6'), ObjectId('6661bc0cd17570d086fd39d7'), ObjectId('6661bc0cd17570d086fd39d8'), ObjectId('6661bc0cd17570d086fd39d9'), ObjectId('6661bc0cd17570d086fd39da'), ObjectId('6661bc0cd17570d086fd39db'), ObjectId('6661bc0cd17570d086fd39dc'), ObjectId('6661bc0cd17570d086fd39dd'), ObjectId('6661bc0cd17570d086fd39de'), ObjectId('6661bc0cd17570d086fd39df'), ObjectId('6661bc0cd17570d086fd39e0'), ObjectId('6661bc0cd17570d086fd39e1'), ObjectId('6661bc0cd17570d086fd39e2'), ObjectId('6661bc0cd17570d086fd39e3'), ObjectId('6661bc0cd17570d086fd39e4'), ObjectId('6661bc0cd17570d086fd39e5'), ObjectId('6661bc0cd17570d086fd39e6'), ObjectId('6661bc0cd17570d086fd39e7'), ObjectId('6661bc0cd17570d086fd39e8'), ObjectId('6661bc0cd17570d086fd39e9'), ObjectId('6661bc0cd17570d086fd39ea'), ObjectId('6661bc0cd17570d086fd39eb'), ObjectId('6661bc0cd17570d086fd39ec'), ObjectId('6661bc0cd17570d086fd39ed'), ObjectId('6661bc0cd17570d086fd39ee'), ObjectId('6661bc0cd17570d086fd39ef'), ObjectId('6661bc0cd17570d086fd39f0'), ObjectId('6661bc0cd17570d086fd39f1'), ObjectId('6661bc0cd17570d086fd39f2'), ObjectId('6661bc0cd17570d086fd39f3'), ObjectId('6661bc0cd17570d086fd39f4'), ObjectId('6661bc0cd17570d086fd39f5'), ObjectId('6661bc0cd17570d086fd39f6'), ObjectId('6661bc0cd17570d086fd39f7'), ObjectId('6661bc0cd17570d086fd39f8'), ObjectId('6661bc0cd17570d086fd39f9'), ObjectId('6661bc0cd17570d086fd39fa'), ObjectId('6661bc0cd17570d086fd39fb'), ObjectId('6661bc0cd17570d086fd39fc'), ObjectId('6661bc0cd17570d086fd39fd'), ObjectId('6661bc0cd17570d086fd39fe'), ObjectId('6661bc0cd17570d086fd39ff'), ObjectId('6661bc0cd17570d086fd3a00'), ObjectId('6661bc0cd17570d086fd3a01'), ObjectId('6661bc0cd17570d086fd3a02'), ObjectId('6661bc0cd17570d086fd3a03'), ObjectId('6661bc0cd17570d086fd3a04'), ObjectId('6661bc0cd17570d086fd3a05'), ObjectId('6661bc0cd17570d086fd3a06'), ObjectId('6661bc0cd17570d086fd3a07'), ObjectId('6661bc0cd17570d086fd3a08'), ObjectId('6661bc0cd17570d086fd3a09'), ObjectId('6661bc0cd17570d086fd3a0a'), ObjectId('6661bc0cd17570d086fd3a0b'), ObjectId('6661bc0cd17570d086fd3a0c'), ObjectId('6661bc0cd17570d086fd3a0d'), ObjectId('6661bc0cd17570d086fd3a0e'), ObjectId('6661bc0cd17570d086fd3a0f'), ObjectId('6661bc0cd17570d086fd3a10'), ObjectId('6661bc0cd17570d086fd3a11'), ObjectId('6661bc0cd17570d086fd3a12'), ObjectId('6661bc0cd17570d086fd3a13'), ObjectId('6661bc0cd17570d086fd3a14'), ObjectId('6661bc0cd17570d086fd3a15'), ObjectId('6661bc0cd17570d086fd3a16'), ObjectId('6661bc0cd17570d086fd3a17'), ObjectId('6661bc0cd17570d086fd3a18'), ObjectId('6661bc0cd17570d086fd3a19'), ObjectId('6661bc0cd17570d086fd3a1a'), ObjectId('6661bc0cd17570d086fd3a1b'), ObjectId('6661bc0cd17570d086fd3a1c'), ObjectId('6661bc0cd17570d086fd3a1d'), ObjectId('6661bc0cd17570d086fd3a1e'), ObjectId('6661bc0cd17570d086fd3a1f'), ObjectId('6661bc0cd17570d086fd3a20'), ObjectId('6661bc0cd17570d086fd3a21'), ObjectId('6661bc0cd17570d086fd3a22'), ObjectId('6661bc0cd17570d086fd3a23'), ObjectId('6661bc0cd17570d086fd3a24'), ObjectId('6661bc0cd17570d086fd3a25'), ObjectId('6661bc0cd17570d086fd3a26'), ObjectId('6661bc0cd17570d086fd3a27'), ObjectId('6661bc0cd17570d086fd3a28'), ObjectId('6661bc0cd17570d086fd3a29'), ObjectId('6661bc0cd17570d086fd3a2a'), ObjectId('6661bc0cd17570d086fd3a2b'), ObjectId('6661bc0cd17570d086fd3a2c'), ObjectId('6661bc0cd17570d086fd3a2d'), ObjectId('6661bc0cd17570d086fd3a2e'), ObjectId('6661bc0cd17570d086fd3a2f'), ObjectId('6661bc0cd17570d086fd3a30'), ObjectId('6661bc0cd17570d086fd3a31'), ObjectId('6661bc0cd17570d086fd3a32'), ObjectId('6661bc0cd17570d086fd3a33'), ObjectId('6661bc0cd17570d086fd3a34'), ObjectId('6661bc0cd17570d086fd3a35'), ObjectId('6661bc0cd17570d086fd3a36'), ObjectId('6661bc0cd17570d086fd3a37'), ObjectId('6661bc0cd17570d086fd3a38'), ObjectId('6661bc0cd17570d086fd3a39'), ObjectId('6661bc0cd17570d086fd3a3a'), ObjectId('6661bc0cd17570d086fd3a3b'), ObjectId('6661bc0cd17570d086fd3a3c'), ObjectId('6661bc0cd17570d086fd3a3d'), ObjectId('6661bc0cd17570d086fd3a3e'), ObjectId('6661bc0cd17570d086fd3a3f'), ObjectId('6661bc0cd17570d086fd3a40'), ObjectId('6661bc0cd17570d086fd3a41'), ObjectId('6661bc0cd17570d086fd3a42'), ObjectId('6661bc0cd17570d086fd3a43'), ObjectId('6661bc0cd17570d086fd3a44'), ObjectId('6661bc0cd17570d086fd3a45'), ObjectId('6661bc0cd17570d086fd3a46'), ObjectId('6661bc0cd17570d086fd3a47'), ObjectId('6661bc0cd17570d086fd3a48'), ObjectId('6661bc0cd17570d086fd3a49'), ObjectId('6661bc0cd17570d086fd3a4a'), ObjectId('6661bc0cd17570d086fd3a4b'), ObjectId('6661bc0cd17570d086fd3a4c'), ObjectId('6661bc0cd17570d086fd3a4d'), ObjectId('6661bc0cd17570d086fd3a4e'), ObjectId('6661bc0cd17570d086fd3a4f'), ObjectId('6661bc0cd17570d086fd3a50'), ObjectId('6661bc0cd17570d086fd3a51'), ObjectId('6661bc0cd17570d086fd3a52'), ObjectId('6661bc0cd17570d086fd3a53'), ObjectId('6661bc0cd17570d086fd3a54'), ObjectId('6661bc0cd17570d086fd3a55'), ObjectId('6661bc0cd17570d086fd3a56'), ObjectId('6661bc0cd17570d086fd3a57'), ObjectId('6661bc0cd17570d086fd3a58'), ObjectId('6661bc0cd17570d086fd3a59'), ObjectId('6661bc0cd17570d086fd3a5a'), ObjectId('6661bc0cd17570d086fd3a5b'), ObjectId('6661bc0cd17570d086fd3a5c'), ObjectId('6661bc0cd17570d086fd3a5d'), ObjectId('6661bc0cd17570d086fd3a5e'), ObjectId('6661bc0cd17570d086fd3a5f'), ObjectId('6661bc0cd17570d086fd3a60'), ObjectId('6661bc0cd17570d086fd3a61'), ObjectId('6661bc0cd17570d086fd3a62'), ObjectId('6661bc0cd17570d086fd3a63'), ObjectId('6661bc0cd17570d086fd3a64'), ObjectId('6661bc0cd17570d086fd3a65'), ObjectId('6661bc0cd17570d086fd3a66'), ObjectId('6661bc0cd17570d086fd3a67'), ObjectId('6661bc0cd17570d086fd3a68'), ObjectId('6661bc0cd17570d086fd3a69'), ObjectId('6661bc0cd17570d086fd3a6a'), ObjectId('6661bc0cd17570d086fd3a6b'), ObjectId('6661bc0cd17570d086fd3a6c'), ObjectId('6661bc0cd17570d086fd3a6d'), ObjectId('6661bc0cd17570d086fd3a6e'), ObjectId('6661bc0cd17570d086fd3a6f'), ObjectId('6661bc0cd17570d086fd3a70'), ObjectId('6661bc0cd17570d086fd3a71'), ObjectId('6661bc0cd17570d086fd3a72'), ObjectId('6661bc0cd17570d086fd3a73'), ObjectId('6661bc0cd17570d086fd3a74'), ObjectId('6661bc0cd17570d086fd3a75'), ObjectId('6661bc0cd17570d086fd3a76'), ObjectId('6661bc0cd17570d086fd3a77'), ObjectId('6661bc0cd17570d086fd3a78'), ObjectId('6661bc0cd17570d086fd3a79'), ObjectId('6661bc0cd17570d086fd3a7a'), ObjectId('6661bc0cd17570d086fd3a7b'), ObjectId('6661bc0cd17570d086fd3a7c'), ObjectId('6661bc0cd17570d086fd3a7d'), ObjectId('6661bc0cd17570d086fd3a7e'), ObjectId('6661bc0cd17570d086fd3a7f'), ObjectId('6661bc0cd17570d086fd3a80'), ObjectId('6661bc0cd17570d086fd3a81'), ObjectId('6661bc0cd17570d086fd3a82'), ObjectId('6661bc0cd17570d086fd3a83'), ObjectId('6661bc0cd17570d086fd3a84'), ObjectId('6661bc0cd17570d086fd3a85'), ObjectId('6661bc0cd17570d086fd3a86'), ObjectId('6661bc0cd17570d086fd3a87'), ObjectId('6661bc0cd17570d086fd3a88'), ObjectId('6661bc0cd17570d086fd3a89'), ObjectId('6661bc0cd17570d086fd3a8a'), ObjectId('6661bc0cd17570d086fd3a8b'), ObjectId('6661bc0cd17570d086fd3a8c'), ObjectId('6661bc0cd17570d086fd3a8d'), ObjectId('6661bc0cd17570d086fd3a8e'), ObjectId('6661bc0cd17570d086fd3a8f'), ObjectId('6661bc0cd17570d086fd3a90'), ObjectId('6661bc0cd17570d086fd3a91'), ObjectId('6661bc0cd17570d086fd3a92'), ObjectId('6661bc0cd17570d086fd3a93'), ObjectId('6661bc0cd17570d086fd3a94'), ObjectId('6661bc0cd17570d086fd3a95'), ObjectId('6661bc0cd17570d086fd3a96'), ObjectId('6661bc0cd17570d086fd3a97'), ObjectId('6661bc0cd17570d086fd3a98'), ObjectId('6661bc0cd17570d086fd3a99'), ObjectId('6661bc0cd17570d086fd3a9a'), ObjectId('6661bc0cd17570d086fd3a9b'), ObjectId('6661bc0cd17570d086fd3a9c'), ObjectId('6661bc0cd17570d086fd3a9d'), ObjectId('6661bc0cd17570d086fd3a9e'), ObjectId('6661bc0cd17570d086fd3a9f'), ObjectId('6661bc0cd17570d086fd3aa0'), ObjectId('6661bc0cd17570d086fd3aa1'), ObjectId('6661bc0cd17570d086fd3aa2'), ObjectId('6661bc0cd17570d086fd3aa3'), ObjectId('6661bc0cd17570d086fd3aa4'), ObjectId('6661bc0cd17570d086fd3aa5'), ObjectId('6661bc0cd17570d086fd3aa6'), ObjectId('6661bc0cd17570d086fd3aa7'), ObjectId('6661bc0cd17570d086fd3aa8'), ObjectId('6661bc0cd17570d086fd3aa9'), ObjectId('6661bc0cd17570d086fd3aaa'), ObjectId('6661bc0cd17570d086fd3aab'), ObjectId('6661bc0cd17570d086fd3aac'), ObjectId('6661bc0cd17570d086fd3aad'), ObjectId('6661bc0cd17570d086fd3aae'), ObjectId('6661bc0cd17570d086fd3aaf'), ObjectId('6661bc0cd17570d086fd3ab0'), ObjectId('6661bc0cd17570d086fd3ab1'), ObjectId('6661bc0cd17570d086fd3ab2'), ObjectId('6661bc0cd17570d086fd3ab3'), ObjectId('6661bc0cd17570d086fd3ab4'), ObjectId('6661bc0cd17570d086fd3ab5'), ObjectId('6661bc0cd17570d086fd3ab6'), ObjectId('6661bc0cd17570d086fd3ab7'), ObjectId('6661bc0cd17570d086fd3ab8'), ObjectId('6661bc0cd17570d086fd3ab9'), ObjectId('6661bc0cd17570d086fd3aba'), ObjectId('6661bc0cd17570d086fd3abb'), ObjectId('6661bc0cd17570d086fd3abc'), ObjectId('6661bc0cd17570d086fd3abd'), ObjectId('6661bc0cd17570d086fd3abe'), ObjectId('6661bc0cd17570d086fd3abf'), ObjectId('6661bc0cd17570d086fd3ac0'), ObjectId('6661bc0cd17570d086fd3ac1'), ObjectId('6661bc0cd17570d086fd3ac2'), ObjectId('6661bc0cd17570d086fd3ac3'), ObjectId('6661bc0cd17570d086fd3ac4'), ObjectId('6661bc0cd17570d086fd3ac5'), ObjectId('6661bc0cd17570d086fd3ac6'), ObjectId('6661bc0cd17570d086fd3ac7'), ObjectId('6661bc0cd17570d086fd3ac8'), ObjectId('6661bc0cd17570d086fd3ac9'), ObjectId('6661bc0cd17570d086fd3aca'), ObjectId('6661bc0cd17570d086fd3acb'), ObjectId('6661bc0cd17570d086fd3acc'), ObjectId('6661bc0cd17570d086fd3acd'), ObjectId('6661bc0cd17570d086fd3ace'), ObjectId('6661bc0cd17570d086fd3acf'), ObjectId('6661bc0cd17570d086fd3ad0'), ObjectId('6661bc0cd17570d086fd3ad1'), ObjectId('6661bc0cd17570d086fd3ad2'), ObjectId('6661bc0cd17570d086fd3ad3'), ObjectId('6661bc0cd17570d086fd3ad4'), ObjectId('6661bc0cd17570d086fd3ad5'), ObjectId('6661bc0cd17570d086fd3ad6'), ObjectId('6661bc0cd17570d086fd3ad7'), ObjectId('6661bc0cd17570d086fd3ad8'), ObjectId('6661bc0cd17570d086fd3ad9'), ObjectId('6661bc0cd17570d086fd3ada'), ObjectId('6661bc0cd17570d086fd3adb'), ObjectId('6661bc0cd17570d086fd3adc'), ObjectId('6661bc0cd17570d086fd3add'), ObjectId('6661bc0cd17570d086fd3ade'), ObjectId('6661bc0cd17570d086fd3adf'), ObjectId('6661bc0cd17570d086fd3ae0'), ObjectId('6661bc0cd17570d086fd3ae1'), ObjectId('6661bc0cd17570d086fd3ae2'), ObjectId('6661bc0cd17570d086fd3ae3'), ObjectId('6661bc0cd17570d086fd3ae4'), ObjectId('6661bc0cd17570d086fd3ae5'), ObjectId('6661bc0cd17570d086fd3ae6'), ObjectId('6661bc0cd17570d086fd3ae7'), ObjectId('6661bc0cd17570d086fd3ae8'), ObjectId('6661bc0cd17570d086fd3ae9'), ObjectId('6661bc0cd17570d086fd3aea'), ObjectId('6661bc0cd17570d086fd3aeb'), ObjectId('6661bc0cd17570d086fd3aec'), ObjectId('6661bc0cd17570d086fd3aed'), ObjectId('6661bc0cd17570d086fd3aee'), ObjectId('6661bc0cd17570d086fd3aef'), ObjectId('6661bc0cd17570d086fd3af0'), ObjectId('6661bc0cd17570d086fd3af1'), ObjectId('6661bc0cd17570d086fd3af2'), ObjectId('6661bc0cd17570d086fd3af3'), ObjectId('6661bc0cd17570d086fd3af4'), ObjectId('6661bc0cd17570d086fd3af5'), ObjectId('6661bc0cd17570d086fd3af6'), ObjectId('6661bc0cd17570d086fd3af7'), ObjectId('6661bc0cd17570d086fd3af8'), ObjectId('6661bc0cd17570d086fd3af9'), ObjectId('6661bc0cd17570d086fd3afa'), ObjectId('6661bc0cd17570d086fd3afb'), ObjectId('6661bc0cd17570d086fd3afc'), ObjectId('6661bc0cd17570d086fd3afd'), ObjectId('6661bc0cd17570d086fd3afe'), ObjectId('6661bc0cd17570d086fd3aff'), ObjectId('6661bc0cd17570d086fd3b00'), ObjectId('6661bc0cd17570d086fd3b01'), ObjectId('6661bc0cd17570d086fd3b02'), ObjectId('6661bc0cd17570d086fd3b03'), ObjectId('6661bc0cd17570d086fd3b04'), ObjectId('6661bc0cd17570d086fd3b05'), ObjectId('6661bc0cd17570d086fd3b06'), ObjectId('6661bc0cd17570d086fd3b07'), ObjectId('6661bc0cd17570d086fd3b08'), ObjectId('6661bc0cd17570d086fd3b09'), ObjectId('6661bc0cd17570d086fd3b0a'), ObjectId('6661bc0cd17570d086fd3b0b'), ObjectId('6661bc0cd17570d086fd3b0c'), ObjectId('6661bc0cd17570d086fd3b0d'), ObjectId('6661bc0cd17570d086fd3b0e'), ObjectId('6661bc0cd17570d086fd3b0f'), ObjectId('6661bc0cd17570d086fd3b10'), ObjectId('6661bc0cd17570d086fd3b11'), ObjectId('6661bc0cd17570d086fd3b12'), ObjectId('6661bc0cd17570d086fd3b13'), ObjectId('6661bc0cd17570d086fd3b14'), ObjectId('6661bc0cd17570d086fd3b15'), ObjectId('6661bc0cd17570d086fd3b16'), ObjectId('6661bc0cd17570d086fd3b17'), ObjectId('6661bc0cd17570d086fd3b18'), ObjectId('6661bc0cd17570d086fd3b19'), ObjectId('6661bc0cd17570d086fd3b1a'), ObjectId('6661bc0cd17570d086fd3b1b'), ObjectId('6661bc0cd17570d086fd3b1c'), ObjectId('6661bc0cd17570d086fd3b1d'), ObjectId('6661bc0cd17570d086fd3b1e'), ObjectId('6661bc0cd17570d086fd3b1f'), ObjectId('6661bc0cd17570d086fd3b20'), ObjectId('6661bc0cd17570d086fd3b21'), ObjectId('6661bc0cd17570d086fd3b22'), ObjectId('6661bc0cd17570d086fd3b23'), ObjectId('6661bc0cd17570d086fd3b24'), ObjectId('6661bc0cd17570d086fd3b25'), ObjectId('6661bc0cd17570d086fd3b26'), ObjectId('6661bc0cd17570d086fd3b27'), ObjectId('6661bc0cd17570d086fd3b28'), ObjectId('6661bc0cd17570d086fd3b29'), ObjectId('6661bc0cd17570d086fd3b2a'), ObjectId('6661bc0cd17570d086fd3b2b'), ObjectId('6661bc0cd17570d086fd3b2c'), ObjectId('6661bc0cd17570d086fd3b2d'), ObjectId('6661bc0cd17570d086fd3b2e'), ObjectId('6661bc0cd17570d086fd3b2f'), ObjectId('6661bc0cd17570d086fd3b30'), ObjectId('6661bc0cd17570d086fd3b31'), ObjectId('6661bc0cd17570d086fd3b32'), ObjectId('6661bc0cd17570d086fd3b33'), ObjectId('6661bc0cd17570d086fd3b34'), ObjectId('6661bc0cd17570d086fd3b35'), ObjectId('6661bc0cd17570d086fd3b36'), ObjectId('6661bc0cd17570d086fd3b37'), ObjectId('6661bc0cd17570d086fd3b38'), ObjectId('6661bc0cd17570d086fd3b39'), ObjectId('6661bc0cd17570d086fd3b3a'), ObjectId('6661bc0cd17570d086fd3b3b'), ObjectId('6661bc0cd17570d086fd3b3c'), ObjectId('6661bc0cd17570d086fd3b3d'), ObjectId('6661bc0cd17570d086fd3b3e'), ObjectId('6661bc0cd17570d086fd3b3f'), ObjectId('6661bc0cd17570d086fd3b40'), ObjectId('6661bc0cd17570d086fd3b41'), ObjectId('6661bc0cd17570d086fd3b42'), ObjectId('6661bc0cd17570d086fd3b43'), ObjectId('6661bc0cd17570d086fd3b44'), ObjectId('6661bc0cd17570d086fd3b45'), ObjectId('6661bc0cd17570d086fd3b46'), ObjectId('6661bc0cd17570d086fd3b47'), ObjectId('6661bc0cd17570d086fd3b48'), ObjectId('6661bc0cd17570d086fd3b49'), ObjectId('6661bc0cd17570d086fd3b4a'), ObjectId('6661bc0cd17570d086fd3b4b'), ObjectId('6661bc0cd17570d086fd3b4c'), ObjectId('6661bc0cd17570d086fd3b4d'), ObjectId('6661bc0cd17570d086fd3b4e'), ObjectId('6661bc0cd17570d086fd3b4f'), ObjectId('6661bc0cd17570d086fd3b50'), ObjectId('6661bc0cd17570d086fd3b51'), ObjectId('6661bc0cd17570d086fd3b52'), ObjectId('6661bc0cd17570d086fd3b53'), ObjectId('6661bc0cd17570d086fd3b54'), ObjectId('6661bc0cd17570d086fd3b55'), ObjectId('6661bc0cd17570d086fd3b56'), ObjectId('6661bc0cd17570d086fd3b57'), ObjectId('6661bc0cd17570d086fd3b58'), ObjectId('6661bc0cd17570d086fd3b59'), ObjectId('6661bc0cd17570d086fd3b5a'), ObjectId('6661bc0cd17570d086fd3b5b'), ObjectId('6661bc0cd17570d086fd3b5c'), ObjectId('6661bc0cd17570d086fd3b5d'), ObjectId('6661bc0cd17570d086fd3b5e'), ObjectId('6661bc0cd17570d086fd3b5f'), ObjectId('6661bc0cd17570d086fd3b60'), ObjectId('6661bc0cd17570d086fd3b61'), ObjectId('6661bc0cd17570d086fd3b62'), ObjectId('6661bc0cd17570d086fd3b63'), ObjectId('6661bc0cd17570d086fd3b64'), ObjectId('6661bc0cd17570d086fd3b65'), ObjectId('6661bc0cd17570d086fd3b66'), ObjectId('6661bc0cd17570d086fd3b67'), ObjectId('6661bc0cd17570d086fd3b68'), ObjectId('6661bc0cd17570d086fd3b69'), ObjectId('6661bc0cd17570d086fd3b6a'), ObjectId('6661bc0cd17570d086fd3b6b'), ObjectId('6661bc0cd17570d086fd3b6c'), ObjectId('6661bc0cd17570d086fd3b6d'), ObjectId('6661bc0cd17570d086fd3b6e'), ObjectId('6661bc0cd17570d086fd3b6f'), ObjectId('6661bc0cd17570d086fd3b70'), ObjectId('6661bc0cd17570d086fd3b71'), ObjectId('6661bc0cd17570d086fd3b72'), ObjectId('6661bc0cd17570d086fd3b73'), ObjectId('6661bc0cd17570d086fd3b74'), ObjectId('6661bc0cd17570d086fd3b75'), ObjectId('6661bc0cd17570d086fd3b76'), ObjectId('6661bc0cd17570d086fd3b77'), ObjectId('6661bc0cd17570d086fd3b78'), ObjectId('6661bc0cd17570d086fd3b79'), ObjectId('6661bc0cd17570d086fd3b7a'), ObjectId('6661bc0cd17570d086fd3b7b'), ObjectId('6661bc0cd17570d086fd3b7c'), ObjectId('6661bc0cd17570d086fd3b7d'), ObjectId('6661bc0cd17570d086fd3b7e'), ObjectId('6661bc0cd17570d086fd3b7f'), ObjectId('6661bc0cd17570d086fd3b80'), ObjectId('6661bc0cd17570d086fd3b81'), ObjectId('6661bc0cd17570d086fd3b82'), ObjectId('6661bc0cd17570d086fd3b83'), ObjectId('6661bc0cd17570d086fd3b84'), ObjectId('6661bc0cd17570d086fd3b85'), ObjectId('6661bc0cd17570d086fd3b86'), ObjectId('6661bc0cd17570d086fd3b87'), ObjectId('6661bc0cd17570d086fd3b88'), ObjectId('6661bc0cd17570d086fd3b89'), ObjectId('6661bc0cd17570d086fd3b8a'), ObjectId('6661bc0cd17570d086fd3b8b'), ObjectId('6661bc0cd17570d086fd3b8c'), ObjectId('6661bc0cd17570d086fd3b8d'), ObjectId('6661bc0cd17570d086fd3b8e'), ObjectId('6661bc0cd17570d086fd3b8f'), ObjectId('6661bc0cd17570d086fd3b90'), ObjectId('6661bc0cd17570d086fd3b91')], acknowledged=True)"
      ]
     },
     "execution_count": 4,
     "metadata": {},
     "output_type": "execute_result"
    }
   ],
   "source": [
    "import pandas as pd\n",
    "df = pd.read_csv(\"listacandidatieuropee.csv\")\n",
    "circoscrizioni_collection = db['circoscrizioni']\n",
    "circoscrizioni_data = df.to_dict(orient='records')\n",
    "circoscrizioni_collection.insert_many(circoscrizioni_data)\n"
   ]
  },
  {
   "cell_type": "markdown",
   "metadata": {},
   "source": [
    "## Handling User Query"
   ]
  },
  {
   "cell_type": "code",
   "execution_count": 4,
   "metadata": {},
   "outputs": [],
   "source": [
    "def vector_search(user_query, collection):\n",
    "    \"\"\"\n",
    "    Perform a vector search in the MongoDB collection based on the user query.\n",
    "\n",
    "    Args:\n",
    "    user_query (str): The user's query string.\n",
    "    collection (MongoCollection): The MongoDB collection to search.\n",
    "\n",
    "    Returns:\n",
    "    list: A list of unique matching documents with the highest vectorSearchScore.\n",
    "    \"\"\"\n",
    "\n",
    "    # Generate embedding for the user query\n",
    "    query_embedding = get_embedding(user_query)\n",
    "\n",
    "    if query_embedding is None:\n",
    "        return \"Invalid query or embedding generation failed.\"\n",
    "\n",
    "    # Define the vector search pipeline\n",
    "    pipeline = [\n",
    "        {\n",
    "            \"$vectorSearch\": {\n",
    "                \"index\": \"europee_indice\",\n",
    "                \"queryVector\": query_embedding,\n",
    "                \"path\": \"embedding\",\n",
    "                \"numCandidates\": 150,  # Number of candidate matches to consider\n",
    "                \"limit\": 50,  # Retrieve more than 4 to ensure uniqueness\n",
    "            }\n",
    "        },\n",
    "        {\n",
    "            \"$project\": {\n",
    "                \"_id\": 0,  \n",
    "                \"title\": 1,  \n",
    "                \"text\": 1,  \n",
    "                \"publish_date\": 1,  \n",
    "                \"author\": 1,  \n",
    "                \"score\": {\"$meta\": \"vectorSearchScore\"},  # Include the search score\n",
    "            }\n",
    "        },\n",
    "        {\n",
    "            \"$sort\": {\"score\": -1}  # Sort by vectorSearchScore descending\n",
    "        }\n",
    "    ]\n",
    "\n",
    "    # Execute the search\n",
    "    results = list(collection.aggregate(pipeline))\n",
    "\n",
    "    # Ensure the results are unique by title\n",
    "    unique_results = []\n",
    "    seen_titles = set()\n",
    "\n",
    "    for result in results:\n",
    "        if result['title'] not in seen_titles:\n",
    "            unique_results.append(result)\n",
    "            seen_titles.add(result['title'])\n",
    "        \n",
    "        if len(unique_results) == 3:\n",
    "            break\n",
    "\n",
    "    return unique_results"
   ]
  },
  {
   "cell_type": "code",
   "execution_count": 5,
   "metadata": {},
   "outputs": [],
   "source": [
    "def get_search_result(query, collection):\n",
    "\n",
    "    get_knowledge = vector_search(query, collection)\n",
    "\n",
    "    search_result = \"\"\n",
    "    for result in get_knowledge:\n",
    "        search_result += f\"Titolo: {result.get('title', 'N/A')}, Testo: {result.get('text', 'N/A')}, Publicato il {result.get('publish_date', 'N/A')}, Autore: {result.get('author', 'N/A')} \\n\"\n",
    "\n",
    "    return search_result"
   ]
  },
  {
   "cell_type": "code",
   "execution_count": 15,
   "metadata": {},
   "outputs": [
    {
     "name": "stdout",
     "output_type": "stream",
     "text": [
      "Query: Quali sono i vari partiti italiani  a favore di un esercito comune europeo?\n",
      "Per rispondere considera i seguenti risultati:\n",
      "Titolo: Bandecchi “Serve unica politica estera Ue. Premierato? Idea balorda”, Testo: ROMA (ITALPRESS) – “Il popolo italiano è l’unico che si presenta alle urne senza sapere esattamente chi sta votando. Ad esempio, quello che gli italiani non sanno è che a queste elezioni il Partito Popolare Europeo in Italia è rappresentato da due partiti: Alternativa Popolare e Forza Italia, i cui candidati vanno dentro allo stesso gruppo. E’ un’anomalia tutta italiana”. Parte da queste premesse sulle elezioni europee dell’8-9 giugno l’intervista di Stefano Bandecchi, rilasciata a Claudio Brachino per la rubrica “Primo Piano – Elezioni Europee” dell’agenzia Italpress. L’attenzione è rivolta alle sfide internazionali che attendono l’Unione Europea. “Noi abbiamo in testa un’Europa che avrà la capacità di fare una sola politica estera e un unico esercito, anche se ogni nazione avrà l’esercito predisposto ad una vera e propria difesa – ha spiegato Bandecchi – Noi abbiamo in mente un’Europa che non è guerrafondaia, non aiuta nessuno a fare le guerre e non con le armi Però deve essere una nazione che non può essere invasa da nessuno: Russia, Cina e India. Gli stessi Stati Uniti non devono mettere bocca sulle cose europee”. Il tema del rafforzamento della difesa europea è infatti tra i temi più dibattuti di questa campagna elettorale, soprattutto alla luce dei due grandi conflitti in corso in Medio Oriente e Ucraina. Proprio su quest’ultimo, i paesi europei sono profondamente divisi sulla proposta del segretario generale della NATO Jens Stoltenberg di permettere a Kiev di usare le armi occidentali per colpire obiettivi sul territorio russo. Secondo Bandecchi, “serve un’Europa che parli con una sola voce. Noi invece siamo un’Europa in cui si parla in 27 e questo è un problema grave. Se non vogliamo la guerra, dobbiamo imparare a difenderci e ad essere anche spaventosi per gli altri”. Altra questione riguarda l’energia e l’industria. Per il leader di Alternativa Popolare, “l’Europa deve avere come primo elemento fondamentale un’autonomia energetica europea” e la strada per realizzarla è far sì che “ogni nazione europea deve essere autonoma per il suo popolo, quindi io vedo un’Italia autonoma a livello energetico”. Un’autonomia energetica che vada quindi di pari passo anche con la diversificazione delle fonti e con l’indipendenza. “Dal nucleare al verde, io li accetto tutti. L’importante è che l’Italia non debba chiedere ai russi, ai cinesi e agli americani come gestire la propria nazione a livello elettrico – ha sottolineato Bandecchi – Allo stesso tempo vogliamo una nazione che sia industrializzata. Noi vediamo un’Italia che deve reindustrializzare se stessa perchè oggi non abbiamo più una forte industria italiana”. Spostando l’attenzione sulla situazione nazionale, Bandecchi ha tenuto a ricordare che “gli italiani non sanno che tutte le leggi europee sono sopra a quelle italiane e che l’Italia deve recepire le leggi europee. Un esempio: prima di essere approvata in Italia, la legge finanziaria deve avere il visto della comunità europea. Ma quindi quando diciamo agli italiani che le elezioni più importanti sono quelle europee? Noi abbiamo addirittura leader italiani che dicono che in Europa non ci vanno: se non vai a parlare in Europa, non potrai mai fare niente. Gli italiani devono smettere di essere imbrogliati”. Sul fronte istituzionale “io sono sempre stato per il finanziamento pubblico (ai partiti, ndr), per il voto proporzionale e per avere 1500 parlamentari e non 600. Per me la democrazia non può passare dalla riduzione dei parlamentari, ma al limite attraverso il loro aumento”. Alla domanda sulla riforma del premierato, il giudizio di Bandecchi è netto. “La trovo un’idea balorda. E’ una legge sbagliata, scritta in maniera sbagliata che mette il Presidente della Repubblica e gli italiani in scacco matto – ha puntualizzato – E’ un passo pericoloso. Non sono per il maggioritario e l’autonomia differenziata delle regioni e il premierato mi sembra il massimo della stupidità . Destra e sinistra sono stuzzicati da questo premierato forte, ma è meglio che non li stuzzichi perchè quando arriverà gli italiani saranno davvero nei guai”. Tornando sulle sue affermazione contrarie alle candidature alle Europee di Roberto Vannacci nelle liste della Lega e di Ilaria Salis per Alleanza verdi-Sinistra, Bandecchi ha chiesto, riferendosi al primo, “può essere candidato nel 2024 un retrogrado, un uomo che vede i neri come neri e gli omosessuali come un problema?”. Invece “Salis non l’avrei candidata perchè credo non abbia le caratteristiche giuste per poter portare avanti determinate istanze. Non è una donna che ha realizzato qualcosa. E’ una persona che ha avuto quattro condanne già esecutive”. -foto Italpress- (ITALPRESS)., Publicato il 2024-05-30 13:56:00, Autore: Il Tempo \n",
      "Titolo: Sondaggio sui leader e interessi strapaesani: così dalla campagna elettorale per le europee sparisce l’Europa, Testo: Quali saranno le considerazioni nella testa degli elettori e delle elettrici italiane quando dovranno decidere cosa fare alle elezioni europee di giugno? Ingenuamente, potremmo suggerire che penseranno all’Europa e al suo futuro. O anche ai temi che più stanno loro a cuore. Se guardiamo l’elenco delle principali preoccupazioni degli italiani (fonte Ipsos, aprile 2024), vediamo che l’economia e i…, Publicato il 2024-05-11 12:33:41, Autore: Cristiano Vezzoni università Degli Studi Di Milano E Presidente Itanes – Italian National Election S, Redazione Repubblica.it \n",
      "Titolo: Europee: Schlein, &amp;#039;sì a politica estera e difesa comune, l&amp;#039;unione fa la forza&amp;#039;, Testo: Roma, 31 mag. (Adnkronos) - \"Se vogliamo un'Europa più integrata serve una politica estera e una difesa comune. L'unione fa la forza. Cosa può contare l'Italia da sola?\". Così Elly Schlein a Tribùsu Sky Tg24., Publicato il 2024-05-31 19:18:01, Autore: Libero Quotidiano, Libero_official \n",
      ".\n"
     ]
    }
   ],
   "source": [
    "# Conduct query with retrival of sources\n",
    "query = \"Quali sono i vari partiti italiani  a favore di un esercito comune europeo?\"\n",
    "source_information = get_search_result(query, collection)\n",
    "combined_information = f\"Query: {query}\\nPer rispondere considera i seguenti risultati:\\n{source_information}.\"\n",
    "\n",
    "print(combined_information)"
   ]
  },
  {
   "cell_type": "code",
   "execution_count": null,
   "metadata": {},
   "outputs": [],
   "source": [
    "from openai import OpenAI\n",
    "client = OpenAI(api_key='insert your openai api')\n",
    "\n",
    "completion = client.chat.completions.create(\n",
    "      model=\"gpt-4o\",\n",
    "      messages=[\n",
    "          {\"role\": \"system\", \"content\": \"Sei un assistente politico che dovrà rispondere alle domande sulle elezioni europee 2024.\"},\n",
    "          {\"role\": \"user\", \"content\": combined_information}\n",
    "      ]\n",
    "  )"
   ]
  }
 ],
 "metadata": {
  "kernelspec": {
   "display_name": "Python 3",
   "language": "python",
   "name": "python3"
  },
  "language_info": {
   "codemirror_mode": {
    "name": "ipython",
    "version": 3
   },
   "file_extension": ".py",
   "mimetype": "text/x-python",
   "name": "python",
   "nbconvert_exporter": "python",
   "pygments_lexer": "ipython3",
   "version": "3.11.9"
  }
 },
 "nbformat": 4,
 "nbformat_minor": 2
}
